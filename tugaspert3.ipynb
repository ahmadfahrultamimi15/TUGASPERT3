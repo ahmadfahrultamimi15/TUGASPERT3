{
  "nbformat": 4,
  "nbformat_minor": 0,
  "metadata": {
    "colab": {
      "provenance": [],
      "authorship_tag": "ABX9TyOU+ozrBSlUhwBP+ZpegA2L",
      "include_colab_link": true
    },
    "kernelspec": {
      "name": "python3",
      "display_name": "Python 3"
    },
    "language_info": {
      "name": "python"
    }
  },
  "cells": [
    {
      "cell_type": "markdown",
      "metadata": {
        "id": "view-in-github",
        "colab_type": "text"
      },
      "source": [
        "<a href=\"https://colab.research.google.com/github/ahmadfahrultamimi15/TUGASPERT3/blob/main/tugaspert3.ipynb\" target=\"_parent\"><img src=\"https://colab.research.google.com/assets/colab-badge.svg\" alt=\"Open In Colab\"/></a>"
      ]
    },
    {
      "cell_type": "code",
      "execution_count": 7,
      "metadata": {
        "colab": {
          "base_uri": "https://localhost:8080/"
        },
        "id": "lyBLI_mIMWPx",
        "outputId": "9006a0e8-26ee-4701-8eb9-a9328d82977b"
      },
      "outputs": [
        {
          "output_type": "stream",
          "name": "stdout",
          "text": [
            "Selamat datang di sistem login sederhana.\n",
            "Masukkan username: ahrul\n",
            "Masukkan password: 12345678\n",
            "Login berhasil!\n"
          ]
        }
      ],
      "source": [
        "# Fungsi untuk mengenkripsi teks dengan Vigenere Cipher\n",
        "def vigenere_encrypt(text, key):\n",
        "    encrypted_text = \"\"\n",
        "    key_length = len(key)\n",
        "\n",
        "    for i in range(len(text)):\n",
        "        char = text[i]\n",
        "        key_char = key[i % key_length]\n",
        "        encrypted_char = chr(((ord(char) + ord(key_char)) % 26) + ord('A'))\n",
        "        encrypted_text += encrypted_char\n",
        "\n",
        "    return encrypted_text\n",
        "\n",
        "# Fungsi untuk mendekripsi teks dengan Vigenere Cipher\n",
        "def vigenere_decrypt(encrypted_text, key):\n",
        "    decrypted_text = \"\"\n",
        "    key_length = len(key)\n",
        "\n",
        "    for i in range(len(encrypted_text)):\n",
        "        char = encrypted_text[i]\n",
        "        key_char = key[i % key_length]\n",
        "        decrypted_char = chr(((ord(char) - ord(key_char)) % 26) + ord('A'))\n",
        "        decrypted_text += decrypted_char\n",
        "\n",
        "    return decrypted_text\n",
        "\n",
        "# Daftar pengguna (gunakan database yang sesungguhnya dalam aplikasi nyata)\n",
        "users = {\n",
        "    \"ahrul\": {\"password\": \"KEY\", \"encrypted_password\": vigenere_encrypt(\"12345678\", \"KEY\")},\n",
        "    \"tamimi\": {\"password\": \"SECRET\", \"encrypted_password\": vigenere_encrypt(\"PASSWORD123\", \"SECRET\")},\n",
        "}\n",
        "\n",
        "# Fungsi untuk melakukan login\n",
        "def login(username, password):\n",
        "    if username in users:\n",
        "        stored_encrypted_password = users[username][\"encrypted_password\"]\n",
        "        key = users[username][\"password\"]\n",
        "        encrypted_password = vigenere_encrypt(password, key)\n",
        "        if encrypted_password == stored_encrypted_password:\n",
        "            return True\n",
        "    return False\n",
        "\n",
        "# Program utama\n",
        "while True:\n",
        "    print(\"Selamat datang di sistem login sederhana.\")\n",
        "    username = input(\"Masukkan username: \")\n",
        "    password = input(\"Masukkan password: \")\n",
        "\n",
        "    if login(username, password):\n",
        "        print(\"Login berhasil!\")\n",
        "        break\n",
        "    else:\n",
        "        print(\"Login gagal. Silakan coba lagi.\")\n"
      ]
    }
  ]
}